{
  "nbformat": 4,
  "nbformat_minor": 0,
  "metadata": {
    "colab": {
      "name": "Untitled0.ipynb",
      "provenance": [],
      "authorship_tag": "ABX9TyPfWQUJPqSddwaoeNUh88ll",
      "include_colab_link": true
    },
    "kernelspec": {
      "name": "python3",
      "display_name": "Python 3"
    },
    "language_info": {
      "name": "python"
    }
  },
  "cells": [
    {
      "cell_type": "markdown",
      "metadata": {
        "id": "view-in-github",
        "colab_type": "text"
      },
      "source": [
        "<a href=\"https://colab.research.google.com/github/mbangash1neiu/Google-Colab/blob/main/XOR_one_timepad.ipynb\" target=\"_parent\"><img src=\"https://colab.research.google.com/assets/colab-badge.svg\" alt=\"Open In Colab\"/></a>"
      ]
    },
    {
      "cell_type": "code",
      "metadata": {
        "id": "kAT93iQ4Ivgy",
        "outputId": "d93bac6c-6293-4d2f-874e-3a7c304fca6b",
        "colab": {
          "base_uri": "https://localhost:8080/"
        }
      },
      "source": [
        "# Courtesy \n",
        "# Luis Rosales https://www.linkedin.com/in/luisrosales1239/\n",
        "# Muhammad Bangash https://www.linkedin.com/in/muhammad-saad-bangash/\n",
        "from decimal import *\n",
        "a = \"10101110\"\n",
        "b = \"1010001\"\n",
        "y = int(a,2) ^ int(b,2)\n",
        "print(bin(y).replace(\"0b\",\"\"))"
      ],
      "execution_count": 1,
      "outputs": [
        {
          "output_type": "stream",
          "name": "stdout",
          "text": [
            "11111111\n"
          ]
        }
      ]
    }
  ]
}