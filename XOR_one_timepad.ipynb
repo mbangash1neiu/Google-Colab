{
  "nbformat": 4,
  "nbformat_minor": 0,
  "metadata": {
    "colab": {
      "name": "XOR_one_timepad.ipynb",
      "provenance": [],
      "authorship_tag": "ABX9TyPj5++Nkq/Mbd3dqjHfZ91+",
      "include_colab_link": true
    },
    "kernelspec": {
      "name": "python3",
      "display_name": "Python 3"
    },
    "language_info": {
      "name": "python"
    }
  },
  "cells": [
    {
      "cell_type": "markdown",
      "metadata": {
        "id": "view-in-github",
        "colab_type": "text"
      },
      "source": [
        "<a href=\"https://colab.research.google.com/github/mbangash1neiu/Google-Colab/blob/main/XOR_one_timepad.ipynb\" target=\"_parent\"><img src=\"https://colab.research.google.com/assets/colab-badge.svg\" alt=\"Open In Colab\"/></a>"
      ]
    },
    {
      "cell_type": "code",
      "metadata": {
        "colab": {
          "base_uri": "https://localhost:8080/"
        },
        "id": "YPcy5t1xPxu-",
        "outputId": "a33ea631-06af-4e06-a757-00ff71cb9620"
      },
      "source": [
        "# Courtesy \n",
        "# Luis Rosales https://www.linkedin.com/in/luisrosales1239/\n",
        "# Muhammad Bangash https://www.linkedin.com/in/muhammad-saad-bangash/\n",
        "from decimal import *\n",
        "\n",
        "message = \"10101110\" # replace with your own values\n",
        "padding = \"1010001\"  # Note: Make sure to remove any leading 0\n",
        "\n",
        "concatenated = \"0\" + padding\n",
        "output = int(message,2) ^ int(padding,2)\n",
        "print('Message =',message)\n",
        "print('Padding =',concatenated)\n",
        "print('Decimal is',output)\n",
        "print('Binary is',bin(output).replace(\"0b\",\"\"))"
      ],
      "execution_count": 1,
      "outputs": [
        {
          "output_type": "stream",
          "name": "stdout",
          "text": [
            "Message = 10101110\n",
            "Padding = 01010001\n",
            "Decimal is 255\n",
            "Binary is 11111111\n"
          ]
        }
      ]
    }
  ]
}